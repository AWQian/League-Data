{
 "metadata": {
  "language_info": {
   "codemirror_mode": {
    "name": "ipython",
    "version": 3
   },
   "file_extension": ".py",
   "mimetype": "text/x-python",
   "name": "python",
   "nbconvert_exporter": "python",
   "pygments_lexer": "ipython3",
   "version": 3
  },
  "orig_nbformat": 2
 },
 "nbformat": 4,
 "nbformat_minor": 2,
 "cells": [
  {
   "cell_type": "code",
   "execution_count": null,
   "metadata": {},
   "outputs": [],
   "source": [
    "import pandas as pd\n",
    "from sklearn.model_selection import train_test_split\n",
    "from sklearn.svm import SVC\n",
    "from sklearn.metrics import classification_report, confusion_matrix\n",
    "\n",
    "dataset = pd.read_csv('C:/Users/zydyx/Desktop/351 project/data_featureselection.csv')\n",
    "dataset.shape\n",
    "x = dataset.drop('team_one_win',axis = 1)\n",
    "y = dataset['team_one_win']\n",
    "\n",
    "#split the dataset into training set and testing set \n",
    "x_train, x_test, y_train, y_test = train_test_split(x,y,test_size = 0.2)\n",
    "\n",
    "#build svc using linear kernal\n",
    "svclassifier = SVC(kernel='linear')\n",
    "svclassifier.fit(x_train, y_train)\n",
    "\n",
    "#predict values using the SVM model\n",
    "y_pred = svclassifier.predict(x_test)\n",
    "\n",
    "print (confusion_matrix(y_test, y_pred))\n",
    "print (classification_report(y_test,y_pred))"
   ]
  }
 ]
}