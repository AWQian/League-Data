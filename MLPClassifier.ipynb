{
 "metadata": {
  "language_info": {
   "codemirror_mode": {
    "name": "ipython",
    "version": 3
   },
   "file_extension": ".py",
   "mimetype": "text/x-python",
   "name": "python",
   "nbconvert_exporter": "python",
   "pygments_lexer": "ipython3",
   "version": 3
  },
  "orig_nbformat": 2
 },
 "nbformat": 4,
 "nbformat_minor": 2,
 "cells": [
  {
   "cell_type": "code",
   "execution_count": null,
   "metadata": {},
   "outputs": [],
   "source": [
    "from sklearn.neural_network import MLPClassifier \n",
    "from sklearn.model_selection import train_test_split \n",
    "from sklearn.preprocessing import StandardScaler\n",
    "\n",
    "import pandas as pd\n",
    "from sklearn.metrics import plot_confusion_matrix\n",
    "import matplotlib.pyplot as plt\n",
    "\n",
    "iris_data = pd.read_csv(\"data_featureselection.csv\")\n",
    "X = iris_data[iris_data.columns[1:36]]\n",
    "y = iris_data[iris_data.columns[0]]\n",
    "\n",
    "X_train, X_test, y_train, y_test = train_test_split(X,y,random_state=1, test_size=0.2)\n",
    "\n",
    "clf = MLPClassifier(hidden_layer_sizes=(4),activation=\"relu\",random_state=1).fit(X_train, y_train)\n",
    "y_pred=clf.predict(X_test)\n",
    "print(clf.score(X_test, y_test))\n",
    "\n",
    "fig=plot_confusion_matrix(clf, X_test, y_test,display_labels=[\"Win\",\"Loss\"])\n",
    "fig.figure_.suptitle(\"Confusion Matrix for League Data\")\n",
    "plt.show()"
   ]
  },
  {
   "cell_type": "code",
   "execution_count": null,
   "metadata": {},
   "outputs": [],
   "source": [
    "clf = MLPClassifier(hidden_layer_sizes=(32,16,8),activation=\"relu\",random_state=1).fit(X_train, y_train)\n",
    "y_pred=clf.predict(X_test)\n",
    "print(clf.score(X_test, y_test))\n",
    "\n",
    "fig=plot_confusion_matrix(clf, X_test, y_test,display_labels=[\"Win\",\"Loss\"])\n",
    "fig.figure_.suptitle(\"Confusion Matrix for League Data\")\n",
    "plt.show()"
   ]
  },
  {
   "cell_type": "code",
   "execution_count": null,
   "metadata": {},
   "outputs": [],
   "source": [
    "clf = MLPClassifier(hidden_layer_sizes=(512,256,128,64,16,8),activation=\"relu\",random_state=1).fit(X_train, y_train)\n",
    "y_pred=clf.predict(X_test)\n",
    "print(clf.score(X_test, y_test))\n",
    "\n",
    "fig=plot_confusion_matrix(clf, X_test, y_test,display_labels=[\"Win\",\"Loss\"])\n",
    "fig.figure_.suptitle(\"Confusion Matrix for League Data\")\n",
    "plt.show()"
   ]
  }
 ]
}